{
  "nbformat": 4,
  "nbformat_minor": 0,
  "metadata": {
    "colab": {
      "provenance": [],
      "authorship_tag": "ABX9TyPdZil/VLZ2v8k7eJMrHm+c",
      "include_colab_link": true
    },
    "kernelspec": {
      "name": "python3",
      "display_name": "Python 3"
    },
    "language_info": {
      "name": "python"
    }
  },
  "cells": [
    {
      "cell_type": "markdown",
      "metadata": {
        "id": "view-in-github",
        "colab_type": "text"
      },
      "source": [
        "<a href=\"https://colab.research.google.com/github/cazhu/xgbTS/blob/dev/run_model.ipynb\" target=\"_parent\"><img src=\"https://colab.research.google.com/assets/colab-badge.svg\" alt=\"Open In Colab\"/></a>"
      ]
    },
    {
      "cell_type": "code",
      "execution_count": 1,
      "metadata": {
        "id": "Or_zCzJVcNam"
      },
      "outputs": [],
      "source": [
        "import pandas as pd"
      ]
    },
    {
      "cell_type": "code",
      "source": [
        "from xgboost import XGBClassifier\n",
        "# read data\n",
        "from sklearn.datasets import load_iris\n",
        "from sklearn.model_selection import train_test_split\n",
        "data = load_iris()\n",
        "X_train, X_test, y_train, y_test = train_test_split(data['data'], data['target'], test_size=.2)\n",
        "# create model instance\n",
        "bst = XGBClassifier(n_estimators=2, max_depth=2, learning_rate=1, objective='binary:logistic')\n",
        "# fit model\n",
        "bst.fit(X_train, y_train)\n",
        "# make predictions\n",
        "preds = bst.predict(X_test)"
      ],
      "metadata": {
        "id": "I3bHrFP7c90p"
      },
      "execution_count": 2,
      "outputs": []
    },
    {
      "cell_type": "code",
      "source": [
        "preds"
      ],
      "metadata": {
        "id": "kfHGGaR7dFky",
        "outputId": "ac74f493-9812-47c1-a0bd-2ce38b6c785e",
        "colab": {
          "base_uri": "https://localhost:8080/"
        }
      },
      "execution_count": 4,
      "outputs": [
        {
          "output_type": "execute_result",
          "data": {
            "text/plain": [
              "array([1, 0, 1, 0, 2, 0, 2, 1, 0, 0, 2, 1, 1, 2, 2, 2, 2, 2, 0, 2, 1, 2,\n",
              "       0, 2, 1, 0, 1, 2, 2, 0])"
            ]
          },
          "metadata": {},
          "execution_count": 4
        }
      ]
    }
  ]
}